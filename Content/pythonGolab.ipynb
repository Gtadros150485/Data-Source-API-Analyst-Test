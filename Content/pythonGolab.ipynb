import requests

# Replace with your GitHub token
GITHUB_TOKEN = 'YOUR_PERSONAL_ACCESS_TOKEN'
GITHUB_USER = 'YOUR_GITHUB_USERNAME'

# GitHub API base URL
base_url = "https://api.github.com"

# Headers to include the authorization token
headers = {
    'Authorization': f'token {GITHUB_TOKEN}',
    'Accept': 'application/vnd.github.v3+json'
}

# Create a repository (POST)
def create_repo(repo_name, description):
    url = f'{base_url}/user/repos'
    data = {
        "name": repo_name,
        "description": description,
        "private": False  # Set to True if you want a private repo
    }
    
    response = requests.post(url, json=data, headers=headers)
    
    if response.status_code == 201:
        print(f"Repository '{repo_name}' created successfully.")
        return response.json()  # Return repository data
    else:
        print(f"Failed to create repository: {response.status_code}")
        print(response.json())
        return None

# Get repository details (GET)
def get_repo_details(repo_name):
    url = f'{base_url}/repos/{GITHUB_USER}/{repo_name}'
    response = requests.get(url, headers=headers)
    
    if response.status_code == 200:
        print(f"Repository details:\n{response.json()}")
    else:
        print(f"Failed to retrieve repository details: {response.status_code}")
        print(response.json())

# Update repository (PATCH)
def update_repo(repo_name, new_description):
    url = f'{base_url}/repos/{GITHUB_USER}/{repo_name}'
    data = {
        "description": new_description
    }
    
    response = requests.patch(url, json=data, headers=headers)
    
    if response.status_code == 200:
        print(f"Repository '{repo_name}' updated successfully.")
        return response.json()
    else:
        print(f"Failed to update repository: {response.status_code}")
        print(response.json())

# Delete repository (DELETE)
def delete_repo(repo_name):
    url = f'{base_url}/repos/{GITHUB_USER}/{repo_name}'
    response = requests.delete(url, headers=headers)
    
    if response.status_code == 204:
        print(f"Repository '{repo_name}' deleted successfully.")
    else:
        print(f"Failed to delete repository: {response.status_code}")
        print(response.json())

# Now let's run the CRUD operations on the GitHub API:
# 1. Create a repository
repo_name = "test-repo-api"
description = "This is a test repository created via GitHub API."
repo = create_repo(repo_name, description)

# Check if the repository was created successfully
if repo:
    # 2. Get repository details
    get_repo_details(repo_name)
    
    # 3. Update the repository description
    new_description = "Updated description for the test repository."
    update_repo(repo_name, new_description)
    
    # 4. Delete the repository
    delete_repo(repo_name)
